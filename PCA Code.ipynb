{
 "cells": [
  {
   "cell_type": "markdown",
   "id": "efcfe21b",
   "metadata": {},
   "source": [
    "## Scaling"
   ]
  },
  {
   "cell_type": "markdown",
   "id": "e6602885",
   "metadata": {},
   "source": [
    "#### from sklearn.preprocessing import StandardScaler\n",
    "#### sc = StandardScaler()\n",
    "#### scale = sc.fit(\"Enter Target Variable\",axis = 1))\n",
    "#### scaled_features = scale.transform(('Enter Target Variable',axis = 1))\n",
    "#### scaled_features"
   ]
  },
  {
   "cell_type": "markdown",
   "id": "a383f9e2",
   "metadata": {},
   "source": [
    "## Principal Component Analysis Code (PCA)"
   ]
  },
  {
   "cell_type": "markdown",
   "id": "ee7f6551",
   "metadata": {},
   "source": [
    "#### from sklearn.decomposition import PCA\n",
    "#### pca = PCA(0.95)\n",
    "#### X_pca = pca.fit_transform(X)\n",
    "#### X_pca.shape() (prints clean features by removing uncessary one's)\n",
    "#### pca.explained_variance_ratio_\n",
    "#### pca.n_components_ (prints the pca components )"
   ]
  },
  {
   "cell_type": "markdown",
   "id": "1ea97b72",
   "metadata": {},
   "source": [
    " ## Accuracy"
   ]
  },
  {
   "cell_type": "markdown",
   "id": "0526d748",
   "metadata": {},
   "source": [
    "#### X = X_pca (cleaned features)\n",
    "#### y = Target Variable\n",
    "#### from sklearn.model_selection import train_test_split\n",
    "#### X_train,X_test,y_train,y_test = train_test_split(X,y,test_size = ?,random_state = ?)\n",
    "#### from sklearn.linear_model import LogisticRegression\n",
    "#### model = LogisticRegression(max_iter = 1000)\n",
    "#### model.fit(X_train,y_train)\n",
    "#### model.score(X_test,y_test)"
   ]
  },
  {
   "cell_type": "markdown",
   "id": "15ab3ffb",
   "metadata": {},
   "source": [
    "## Selecting a particular n_component value"
   ]
  },
  {
   "cell_type": "markdown",
   "id": "3c9f9fca",
   "metadata": {},
   "source": [
    "#### pca = PCA(n_components=2)\n",
    "#### X_pca = pca.fit_transform(X)\n",
    "#### X_pca.shape()\n",
    "#### X_pca\n",
    "#### pca.explained_variance_ratio_\n",
    "#### model = LogisticRegression(max_iter = 1000)\n",
    "#### model.fit(X_train,y_train)\n",
    "#### model.score(X_test,y_test)\n",
    "### Decreasing the number of n_components decreases the Accuracy"
   ]
  },
  {
   "cell_type": "code",
   "execution_count": null,
   "id": "2c831887",
   "metadata": {},
   "outputs": [],
   "source": []
  }
 ],
 "metadata": {
  "kernelspec": {
   "display_name": "Python 3",
   "language": "python",
   "name": "python3"
  },
  "language_info": {
   "codemirror_mode": {
    "name": "ipython",
    "version": 3
   },
   "file_extension": ".py",
   "mimetype": "text/x-python",
   "name": "python",
   "nbconvert_exporter": "python",
   "pygments_lexer": "ipython3",
   "version": "3.8.8"
  }
 },
 "nbformat": 4,
 "nbformat_minor": 5
}
